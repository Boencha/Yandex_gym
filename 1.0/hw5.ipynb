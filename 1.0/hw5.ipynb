{
 "cells": [
  {
   "cell_type": "code",
   "execution_count": null,
   "metadata": {},
   "outputs": [],
   "source": [
    "#A. Стильная одежда\n",
    "n = int(input())\n",
    "top = [int(i) for i in input().split()]\n",
    "\n",
    "m = int(input())\n",
    "pant = [int(i) for i in input().split()]\n",
    "\n",
    "\n",
    "min_raz = top[-1]\n",
    "i, k = 0, 0\n",
    "ans = {}\n",
    "while k < n and i < m:\n",
    "    if  top[k] > pant[i]:\n",
    "        if top[k] - pant[i] < min_raz:\n",
    "            min_raz = top[k] - pant[i]\n",
    "            ans[min_raz] = [top[k], pant[i]]\n",
    "        i += 1\n",
    "    else: \n",
    "        if abs(top[k] - pant[i]) < min_raz:\n",
    "            min_raz = abs(top[k] - pant[i])\n",
    "            ans[min_raz] = [top[k], pant[i]]\n",
    "        k += 1\n",
    "        \n",
    "    if min_raz == 0:\n",
    "        break\n",
    "    \n",
    "print(*ans[min_raz])"
   ]
  },
  {
   "cell_type": "code",
   "execution_count": null,
   "metadata": {},
   "outputs": [],
   "source": [
    "#C. Туризм\n",
    "n = int(input())\n",
    "trace = [0] * n\n",
    "arr = [0] * (n)\n",
    "arr_res = [0] * (n)\n",
    "for i in range(n):\n",
    "        x_1, trace[i]= map(int, input().split())  \n",
    "        arr[i] = trace[i] - trace[i - 1] + arr[i - 1] if trace[i] > trace[i - 1] and i != 0 else + arr[i - 1]\n",
    "        arr_res[i] = trace[i - 1] - trace[i] + arr_res[i -1] if trace[i - 1] > trace[i] and i != 0 else arr_res[i - 1]\n",
    "\n",
    "m = int(input())\n",
    "\n",
    "for i in range(m):\n",
    "    t1, t2  = map(int, input().split())\n",
    "    if t1 < t2:\n",
    "        print(arr[t2 - 1] - arr[t1 - 1])\n",
    "    elif t1 > t2:\n",
    "        print(arr_res[t1-1] - arr_res[t2-1])\n",
    "    else:\n",
    "        print('0')"
   ]
  },
  {
   "cell_type": "code",
   "execution_count": null,
   "metadata": {},
   "outputs": [],
   "source": [
    "#D. Город Че\n",
    "n, r = map(int, input().split())\n",
    "arr = input().split()\n",
    "t, pair = 1, 0\n",
    "\n",
    "\n",
    "for i in range(n):\n",
    "    while t < n :\n",
    "        if int(arr[t]) - int(arr[i]) > r:\n",
    "            pair += (n - t)\n",
    "            break\n",
    "        t += 1\n",
    "print(pair)"
   ]
  }
 ],
 "metadata": {
  "kernelspec": {
   "display_name": "Python 3",
   "language": "python",
   "name": "python3"
  },
  "language_info": {
   "name": "python",
   "version": "3.11.2"
  }
 },
 "nbformat": 4,
 "nbformat_minor": 2
}
