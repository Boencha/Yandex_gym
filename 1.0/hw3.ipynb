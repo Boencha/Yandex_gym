{
 "cells": [
  {
   "cell_type": "code",
   "execution_count": null,
   "metadata": {},
   "outputs": [],
   "source": [
    "#A. Количество различных чисел\n",
    "print(len(set(input().split())))"
   ]
  },
  {
   "cell_type": "code",
   "execution_count": null,
   "metadata": {},
   "outputs": [],
   "source": [
    "#B. Пересечение множеств\n",
    "print(*sorted(set(input().split()) & set(input().split()), key=int))"
   ]
  },
  {
   "cell_type": "code",
   "execution_count": null,
   "metadata": {},
   "outputs": [],
   "source": [
    "#C. Кубики\n",
    "n, m = map(int, input().split())\n",
    "anya = set(int(input()) for _ in range(n))\n",
    "borya = set(int(input()) for _ in range(m))\n",
    "\n",
    "oba = anya & borya\n",
    "anya.difference_update(oba)\n",
    "borya.difference_update(oba)\n",
    "print(len(oba)), print(*sorted(oba))\n",
    "print(len(anya)), print(*sorted(anya))\n",
    "print(len(borya)), print(*sorted(borya))"
   ]
  },
  {
   "cell_type": "code",
   "execution_count": null,
   "metadata": {},
   "outputs": [],
   "source": [
    "#D. Количество слов в тексте\n",
    "with open('input.txt') as inp:\n",
    "    for line in inp.readlines():\n",
    "        str = set(i.lower().strip(':,.!?();') for i in inp)\n",
    "print(len(str))"
   ]
  },
  {
   "cell_type": "code",
   "execution_count": null,
   "metadata": {},
   "outputs": [],
   "source": [
    "#E. OpenCalculator\n",
    "imeem = [i for i in input() if i != ' ']\n",
    "inp = set(input())\n",
    "blo = len(imeem)\n",
    "for i in inp:\n",
    "    if i not in imeem:\n",
    "        imeem.append(i)\n",
    "    \n",
    "print(len(imeem) - blo)"
   ]
  },
  {
   "cell_type": "code",
   "execution_count": null,
   "metadata": {},
   "outputs": [],
   "source": [
    "#F. Инопланетный геном\n",
    "str1, str2 = input(), input()\n",
    "genom1, genom2 = {}, {}\n",
    "\n",
    "for i in range(len(str1) - 1):\n",
    "    if (str1[i], str1[i+1]) not in genom1:\n",
    "        genom1[(str1[i], str1[i+1])] = 1\n",
    "    else:\n",
    "        genom1[(str1[i], str1[i+1])] += 1\n",
    "    \n",
    "for i in range(len(str2) - 1):\n",
    "    if (str2[i], str2[i+1]) not in genom2:\n",
    "        genom2[(str2[i], str2[i+1])] = 1\n",
    "    else:\n",
    "        genom2[(str2[i], str2[i+1])] += 1\n",
    "       \n",
    "ans = 0 \n",
    "if len(genom1) == 0 or len(genom2) == 0:\n",
    "    print('0')\n",
    "else:\n",
    "    for i in genom1:\n",
    "        if i in genom2:\n",
    "            ans += genom1[i]\n",
    "\n",
    "    print(ans)"
   ]
  },
  {
   "cell_type": "code",
   "execution_count": null,
   "metadata": {},
   "outputs": [],
   "source": [
    "#G. Черепахи\n",
    "n = int(input())\n",
    "turtles = set(tuple(map(int, input().split())) for _ in range(n))\n",
    "ans = 0\n",
    "for a, b in turtles:\n",
    "    if a + b == n - 1 and a >= 0 and b >= 0:\n",
    "        ans += 1\n",
    "print(ans)"
   ]
  },
  {
   "cell_type": "code",
   "execution_count": null,
   "metadata": {},
   "outputs": [],
   "source": [
    "#H. Злые свинки\n",
    "n = int(input())\n",
    "ans = set(list(map(int, input().split()))[0] for _ in range(n))\n",
    "print(len(ans))"
   ]
  },
  {
   "cell_type": "code",
   "execution_count": null,
   "metadata": {},
   "outputs": [],
   "source": [
    "#I. Полиглоты\n",
    "n = int(input())\n",
    "stud = []\n",
    "\n",
    "for i in range(n):\n",
    "    m = int(input())\n",
    "    stud.append(tuple(input() for _ in range(m)))\n",
    "    \n",
    "vse, odin = set(stud[0]) & set(stud[1]), set(stud[0]) | set(stud[1])\n",
    "for i in range(1, n - 1):\n",
    "    vse = vse & (set(stud[i]) & set(stud[i + 1]))\n",
    "    for j in set(set(stud[i]) | set(stud[i + 1])):\n",
    "        odin.add(j)\n",
    "        \n",
    "        \n",
    "print(len(vse))\n",
    "for i in vse:\n",
    "    print(i)\n",
    "print(len(odin))\n",
    "for i in odin:\n",
    "    print(i)"
   ]
  }
 ],
 "metadata": {
  "language_info": {
   "name": "python"
  }
 },
 "nbformat": 4,
 "nbformat_minor": 2
}
